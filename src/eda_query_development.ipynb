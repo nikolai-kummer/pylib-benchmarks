{
 "cells": [
  {
   "attachments": {},
   "cell_type": "markdown",
   "metadata": {},
   "source": [
    "# Develop extraction queries with ChatGPT"
   ]
  },
  {
   "cell_type": "code",
   "execution_count": 11,
   "metadata": {},
   "outputs": [],
   "source": [
    "import os\n",
    "\n",
    "from dotenv import load_dotenv\n",
    "from common.llm_protocol import ChatGPT\n",
    "\n",
    "load_dotenv()\n",
    "\n",
    "# initialize modules\n",
    "llm_helper = ChatGPT(os.getenv(\"OPENAI_API_KEY\"))"
   ]
  },
  {
   "attachments": {},
   "cell_type": "markdown",
   "metadata": {},
   "source": [
    "# Develop Runable Query Code\n",
    "Use the following principles:\n",
    "- Fewshot examples should be used\n",
    "- Set text apart"
   ]
  },
  {
   "cell_type": "code",
   "execution_count": 6,
   "metadata": {},
   "outputs": [
    {
     "ename": "NameError",
     "evalue": "name 'llm_helper' is not defined",
     "output_type": "error",
     "traceback": [
      "\u001b[1;31m---------------------------------------------------------------------------\u001b[0m",
      "\u001b[1;31mNameError\u001b[0m                                 Traceback (most recent call last)",
      "Cell \u001b[1;32mIn[6], line 11\u001b[0m\n\u001b[0;32m      1\u001b[0m RUNABLE_CODE_QUERY \u001b[39m=\u001b[39m \u001b[39m\"\"\"\u001b[39m\n\u001b[0;32m      2\u001b[0m \u001b[39mAct as a python developer. Be concise and provide only code and no explanation. \u001b[39m\n\u001b[0;32m      3\u001b[0m \u001b[39mWrite a sample code for the \u001b[39m\u001b[39m{function_name}\u001b[39;00m\u001b[39m function from the \u001b[39m\u001b[39m{library_name}\u001b[39;00m\u001b[39m python library. \u001b[39m\n\u001b[1;32m   (...)\u001b[0m\n\u001b[0;32m      8\u001b[0m \u001b[39mIf more than one constant is needed, increment the count.\u001b[39m\n\u001b[0;32m      9\u001b[0m \u001b[39m\"\"\"\u001b[39m\n\u001b[1;32m---> 11\u001b[0m results \u001b[39m=\u001b[39m llm_helper\u001b[39m.\u001b[39mrun_query(RUNABLE_CODE_QUERY\u001b[39m.\u001b[39mformat(function_name\u001b[39m=\u001b[39m\u001b[39m\"\u001b[39m\u001b[39mrandom.choice\u001b[39m\u001b[39m\"\u001b[39m, library_name\u001b[39m=\u001b[39m\u001b[39m\"\u001b[39m\u001b[39mnumpy\u001b[39m\u001b[39m\"\u001b[39m))\n\u001b[0;32m     12\u001b[0m \u001b[39mprint\u001b[39m(results)\n",
      "\u001b[1;31mNameError\u001b[0m: name 'llm_helper' is not defined"
     ]
    }
   ],
   "source": [
    "RUNABLE_CODE_QUERY = \"\"\"\n",
    "Act as a python developer. Be concise and provide only code and no explanation. \n",
    "Write a sample code for the {function_name} function from the {library_name} python library. \n",
    "The function must only be called once. \n",
    "If an array is needed for the function, label it as array1. \n",
    "If more than one array is needed then increment the count. \n",
    "If a constant is needed, then label it constant 1. \n",
    "If more than one constant is needed, increment the count.\n",
    "\"\"\"\n",
    "\n",
    "results = llm_helper.run_query(RUNABLE_CODE_QUERY.format(function_name=\"random.choice\", library_name=\"numpy\"))\n",
    "print(results)\n",
    "                               "
   ]
  },
  {
   "cell_type": "code",
   "execution_count": 5,
   "metadata": {},
   "outputs": [
    {
     "ename": "NameError",
     "evalue": "name 'RUNABLE_CODE_QUERY' is not defined",
     "output_type": "error",
     "traceback": [
      "\u001b[1;31m---------------------------------------------------------------------------\u001b[0m",
      "\u001b[1;31mNameError\u001b[0m                                 Traceback (most recent call last)",
      "Cell \u001b[1;32mIn[5], line 1\u001b[0m\n\u001b[1;32m----> 1\u001b[0m RUNABLE_CODE_QUERY\u001b[39m.\u001b[39mformat(function_name\u001b[39m=\u001b[39m\u001b[39m\"\u001b[39m\u001b[39mrandom.choice\u001b[39m\u001b[39m\"\u001b[39m, library_name\u001b[39m=\u001b[39m\u001b[39m\"\u001b[39m\u001b[39mnumpy\u001b[39m\u001b[39m\"\u001b[39m)\n",
      "\u001b[1;31mNameError\u001b[0m: name 'RUNABLE_CODE_QUERY' is not defined"
     ]
    }
   ],
   "source": [
    "RUNABLE_CODE_QUERY.format(function_name=\"random.choice\", library_name=\"numpy\")"
   ]
  },
  {
   "attachments": {},
   "cell_type": "markdown",
   "metadata": {},
   "source": [
    "* Start with functions that only require single arary input"
   ]
  },
  {
   "cell_type": "code",
   "execution_count": 7,
   "metadata": {},
   "outputs": [
    {
     "ename": "NameError",
     "evalue": "name 'llm_helper' is not defined",
     "output_type": "error",
     "traceback": [
      "\u001b[1;31m---------------------------------------------------------------------------\u001b[0m",
      "\u001b[1;31mNameError\u001b[0m                                 Traceback (most recent call last)",
      "Cell \u001b[1;32mIn[7], line 46\u001b[0m\n\u001b[0;32m     36\u001b[0m unit_tests \u001b[39m=\u001b[39m [\n\u001b[0;32m     37\u001b[0m     [\u001b[39m\"\u001b[39m\u001b[39mrandom.choice\u001b[39m\u001b[39m\"\u001b[39m, \u001b[39m\"\u001b[39m\u001b[39mnumpy\u001b[39m\u001b[39m\"\u001b[39m],\n\u001b[0;32m     38\u001b[0m     [\u001b[39m\"\u001b[39m\u001b[39mfft.fft\u001b[39m\u001b[39m\"\u001b[39m, \u001b[39m\"\u001b[39m\u001b[39mnumpy\u001b[39m\u001b[39m\"\u001b[39m],\n\u001b[1;32m   (...)\u001b[0m\n\u001b[0;32m     42\u001b[0m     [\u001b[39m\"\u001b[39m\u001b[39msum\u001b[39m\u001b[39m\"\u001b[39m, \u001b[39m\"\u001b[39m\u001b[39mnumpy\u001b[39m\u001b[39m\"\u001b[39m],\n\u001b[0;32m     43\u001b[0m ]\n\u001b[0;32m     45\u001b[0m \u001b[39mfor\u001b[39;00m (func, lib) \u001b[39min\u001b[39;00m unit_tests:\n\u001b[1;32m---> 46\u001b[0m     result \u001b[39m=\u001b[39m llm_helper\u001b[39m.\u001b[39mrun_query(RUNABLE_CODE_QUERY\u001b[39m.\u001b[39mformat(function_name\u001b[39m=\u001b[39mfunc, library_name\u001b[39m=\u001b[39mlib))\n\u001b[0;32m     47\u001b[0m     \u001b[39mprint\u001b[39m(result)    \n",
      "\u001b[1;31mNameError\u001b[0m: name 'llm_helper' is not defined"
     ]
    }
   ],
   "source": [
    "RUNABLE_CODE_QUERY = \"\"\"\n",
    "Act as python developer and be concise and format answer as code only.\n",
    "Write a minimum working code for the function enclosed triple backticks from the library enclosed in tripple dashes.\n",
    "You will be penalized for any variable that is defined but not used.\n",
    "\n",
    "Function Name: ```{function_name}```\n",
    "Library Name: ---{library_name}---\n",
    "\n",
    "Follow the following rules:\n",
    "1. Add all required imports\n",
    "2. Define the input array as numpy array1 = [1,2,3,4,5] \n",
    "3. If the function requires any constants, then define them as constant1 = 1, constant2 = 2\n",
    "4. Run the function and store results in a variable named result\n",
    "\n",
    "Examples:\n",
    "\n",
    "Function Name: ```all```\n",
    "Library Name: ---numpy---\n",
    "Code:\n",
    "import numpy as np\n",
    "array1 = np.array([1, 2, 3, 4, 5])\n",
    "result = np.all(array1)\n",
    "\n",
    "Function Name: ```sin```\n",
    "Library Name: ---numpy---\n",
    "Code:\n",
    "import numpy as np\n",
    "array1 = np.array([1, 2, 3, 4, 5])\n",
    "result = np.sin(array1)\n",
    "\n",
    "Function Name: ```{function_name}```\n",
    "Library Name: ---{library_name}---\n",
    "Code:\n",
    "\"\"\"\n",
    "\n",
    "unit_tests = [\n",
    "    [\"random.choice\", \"numpy\"],\n",
    "    [\"fft.fft\", \"numpy\"],\n",
    "    [\"tan\", \"numpy\"],\n",
    "    [\"degress\", \"numpy\"],\n",
    "    [\"floor\", \"numpy\"],\n",
    "    [\"sum\", \"numpy\"],\n",
    "]\n",
    "\n",
    "for (func, lib) in unit_tests:\n",
    "    result = llm_helper.run_query(RUNABLE_CODE_QUERY.format(function_name=func, library_name=lib))\n",
    "    print(result)    "
   ]
  },
  {
   "attachments": {},
   "cell_type": "markdown",
   "metadata": {},
   "source": [
    "# Alternative Code Query"
   ]
  },
  {
   "cell_type": "code",
   "execution_count": 21,
   "metadata": {},
   "outputs": [
    {
     "name": "stdout",
     "output_type": "stream",
     "text": [
      "random.choice numpy\n",
      "1. Purpose of the original function: \n",
      "The function ```numpy.random.choice``` randomly selects elements from a given array or list with or without replacement.\n",
      "\n",
      "2. List of five alternative functions:\n",
      "- ```random.sample``` from the ```random``` library\n",
      "- ```choice``` from the ```random``` library\n",
      "- ```choices``` from the ```random``` library\n",
      "- ```sample``` from the ```numpy.random``` library\n",
      "- ```randint``` from the ```numpy.random``` library\n",
      "\n",
      "3. Output as CSV:\n",
      "```\n",
      "function_name,alternative_library_name,alternative_function_name\n",
      "numpy.random.choice,random,random.sample\n",
      "numpy.random.choice,random,random.choice\n",
      "numpy.random.choice,random,random.choices\n",
      "numpy.random.choice,numpy.random,numpy.random.sample\n",
      "numpy.random.choice,numpy.random,numpy.random.randint\n",
      "```\n",
      "fft.fft numpy\n",
      "1. The purpose of the original function ```numpy.fft.fft``` is to compute the one-dimensional discrete Fourier Transform.\n",
      "\n",
      "2. List of five alternative functions:\n",
      "- Function Name: ```scipy.fft.fft```\n",
      "  - Alternative Library Name: SciPy\n",
      "  - Alternative Function Name: ```scipy.fft.fft```\n",
      "- Function Name: ```pyfftw.interfaces.numpy_fft.fft```\n",
      "  - Alternative Library Name: PyFFTW\n",
      "  - Alternative Function Name: ```pyfftw.interfaces.numpy_fft.fft```\n",
      "- Function Name: ```torch.fft.fft```\n",
      "  - Alternative Library Name: PyTorch\n",
      "  - Alternative Function Name: ```torch.fft.fft```\n",
      "- Function Name: ```cupy.fft.fft```\n",
      "  - Alternative Library Name: CuPy\n",
      "  - Alternative Function Name: ```cupy.fft.fft```\n",
      "- Function Name: ```mkl_fft.fft```\n",
      "  - Alternative Library Name: MKL FFT\n",
      "  - Alternative Function Name: ```mkl_fft.fft```\n",
      "\n",
      "3. Output as CSV:\n",
      "```\n",
      "function_name,alternative_library_name,alternative_function_name\n",
      "numpy.fft.fft,SciPy,scipy.fft.fft\n",
      "numpy.fft.fft,PyFFTW,pyfftw.interfaces.numpy_fft.fft\n",
      "numpy.fft.fft,PyTorch,torch.fft.fft\n",
      "numpy.fft.fft,CuPy,cupy.fft.fft\n",
      "numpy.fft.fft,MKL FFT,mkl_fft.fft\n",
      "```\n",
      "tan numpy\n",
      "1. The purpose of the original function ```numpy.tan``` is to return the tangent of an array of angles in radians.\n",
      "\n",
      "2. List of five alternative functions:\n",
      "- ```math.tan```: This function is a part of the math module in Python and returns the tangent of a given angle in radians.\n",
      "- ```cmath.tan```: This function is a part of the cmath module in Python and returns the tangent of a given angle in radians. It can handle complex numbers as well.\n",
      "- ```sympy.tan```: This function is a part of the sympy module in Python and returns the tangent of a given angle in radians. It can handle symbolic expressions as well.\n",
      "- ```scipy.special.sindg```: This function is a part of the scipy module in Python and returns the tangent of a given angle in degrees.\n",
      "- ```numexpr.evaluate(\"tan(x)\")```: This function is a part of the numexpr module in Python and returns the tangent of a given angle in radians. It is faster than the numpy.tan function for large arrays.\n",
      "\n",
      "3. Output as CSV:\n",
      "\n",
      "| function_name | alternative_library_name | alternative_function_name |\n",
      "| --- | --- | --- |\n",
      "| numpy.tan | math | math.tan |\n",
      "| numpy.tan | cmath | cmath.tan |\n",
      "| numpy.tan | sympy | sympy.tan |\n",
      "| numpy.tan | scipy.special | scipy.special.sindg |\n",
      "| numpy.tan | numexpr | numexpr.evaluate(\"tan(x)\") |\n",
      "degress numpy\n",
      "1. Purpose of the original function: The function ```numpy.degrees``` is used to convert angles from radians to degrees.\n",
      "\n",
      "2. List of five alternative functions:\n",
      "- ```math.degrees``` from the ```math``` library can also be used to convert angles from radians to degrees.\n",
      "- ```sympy.degrees``` from the ```sympy``` library can be used to convert angles from radians to degrees.\n",
      "- ```pandas.Series.dt.degrees``` from the ```pandas``` library can be used to convert angles from radians to degrees for a pandas series.\n",
      "- ```scipy.constants.degree``` from the ```scipy``` library can be used to get the value of one degree in radians.\n",
      "- ```astropy.coordinates.Angle.to_degree``` from the ```astropy``` library can be used to convert angles to degrees.\n",
      "\n",
      "3. Output as CSV:\n",
      "\n",
      "| function_name | alternative_library_name | alternative_function_name |\n",
      "| --- | --- | --- |\n",
      "| numpy.degrees | math | math.degrees |\n",
      "| numpy.degrees | sympy | sympy.degrees |\n",
      "| numpy.degrees | pandas | pandas.Series.dt.degrees |\n",
      "| numpy.degrees | scipy | scipy.constants.degree |\n",
      "| numpy.degrees | astropy | astropy.coordinates.Angle.to_degree |\n",
      "floor numpy\n",
      "1. The purpose of the original function ```numpy.floor``` is to return the largest integer less than or equal to the input element-wise.\n",
      "\n",
      "2. List of five alternative functions:\n",
      "- ```math.floor``` from the math library\n",
      "- ```decimal.Decimal.to_integral_value``` from the decimal library\n",
      "- ```numpy.trunc``` from the numpy library\n",
      "- ```scipy.floor``` from the scipy library\n",
      "- ```numexpr.evaluate``` from the numexpr library\n",
      "\n",
      "3. Output as CSV:\n",
      "```\n",
      "function_name,alternative_library_name,alternative_function_name\n",
      "numpy.floor,math,math.floor\n",
      "numpy.floor,decimal,decimal.Decimal.to_integral_value\n",
      "numpy.floor,numpy,numpy.trunc\n",
      "numpy.floor,scipy,scipy.floor\n",
      "numpy.floor,numexpr,numexpr.evaluate\n",
      "```\n",
      "sum numpy\n",
      "1. The purpose of the original function ```numpy.sum``` is to return the sum of all the elements in an array.\n",
      "\n",
      "2. List of five alternative functions:\n",
      "- ```math.fsum```: This function is used to return the sum of all the elements in an iterable. It is a part of the math module in Python.\n",
      "- ```statistics.fsum```: This function is used to return the sum of all the elements in an iterable. It is a part of the statistics module in Python.\n",
      "- ```pandas.DataFrame.sum```: This function is used to return the sum of all the elements in a DataFrame. It is a part of the pandas library in Python.\n",
      "- ```numpy.add.reduce```: This function is used to return the sum of all the elements in an array. It is a part of the numpy library in Python.\n",
      "- ```numpy.cumsum```: This function is used to return the cumulative sum of all the elements in an array. It is a part of the numpy library in Python.\n",
      "\n",
      "3. Output as CSV:\n",
      "\n",
      "| function_name | alternative_library_name | alternative_function_name |\n",
      "| --- | --- | --- |\n",
      "| numpy.sum | math | math.fsum |\n",
      "| numpy.sum | statistics | statistics.fsum |\n",
      "| numpy.sum | pandas | pandas.DataFrame.sum |\n",
      "| numpy.sum | numpy | numpy.add.reduce |\n",
      "| numpy.sum | numpy | numpy.cumsum |\n"
     ]
    }
   ],
   "source": [
    "ALTERNATE_CODE_QUERY = \"\"\"\n",
    "Find five alternative python functions that can be used instead of the function enclosed by triple backticks.\n",
    "Each alternative function has to exist and be a real function.\n",
    "Function Name: ```{library_name}.{function_name}```\n",
    "\n",
    "Follow the following steps:\n",
    "1. Describe the purpose of the original function.\n",
    "2. Generate a list of five alternative functions that can be used instead of the original function.\n",
    "3. Provide the output as CSV with the following columns:\n",
    "- function_name: print original functio name ```{library_name}.{function_name}```\n",
    "- alternative_library_name: unabbreviated alternative library name\n",
    "- alternative_function_name: full alternative function name and path\n",
    "\"\"\"\n",
    "\n",
    "unit_tests = [\n",
    "    [\"random.choice\", \"numpy\"],\n",
    "    [\"fft.fft\", \"numpy\"],\n",
    "    [\"tan\", \"numpy\"],\n",
    "    [\"degress\", \"numpy\"],\n",
    "    [\"floor\", \"numpy\"],\n",
    "    [\"sum\", \"numpy\"],\n",
    "]\n",
    "\n",
    "for (func, lib) in unit_tests:\n",
    "    print(func, lib)\n",
    "    result = llm_helper.run_query(ALTERNATE_CODE_QUERY.format(function_name=func, library_name=lib))\n",
    "    print(result)    "
   ]
  },
  {
   "cell_type": "code",
   "execution_count": 16,
   "metadata": {},
   "outputs": [
    {
     "ename": "NameError",
     "evalue": "name 'pandas' is not defined",
     "output_type": "error",
     "traceback": [
      "\u001b[1;31m---------------------------------------------------------------------------\u001b[0m",
      "\u001b[1;31mNameError\u001b[0m                                 Traceback (most recent call last)",
      "Cell \u001b[1;32mIn[16], line 1\u001b[0m\n\u001b[1;32m----> 1\u001b[0m pandas\u001b[39m.\u001b[39mutil\u001b[39m.\u001b[39m_random\u001b[39m.\u001b[39mchoice\n",
      "\u001b[1;31mNameError\u001b[0m: name 'pandas' is not defined"
     ]
    }
   ],
   "source": [
    "pandas.util._random.choice"
   ]
  },
  {
   "cell_type": "code",
   "execution_count": 10,
   "metadata": {},
   "outputs": [
    {
     "name": "stdout",
     "output_type": "stream",
     "text": [
      "\n",
      "Give five alternatives to the function enclosed triple backticks from the library enclosed in tripple dashes.\n",
      "Each alternative must be exactly the same.\n",
      "Function Name: ```random.choice```\n",
      "Library Name: ---numpy---\n",
      "\n",
      "Provide the output as CSV with the following columns:\n",
      "- function_name: full function name and path of ```random.choice```\n",
      "- library_name: unabbreviated library name of ---numpy---\n",
      "- alternative_library_name: unabbreviated alternative library name\n",
      "- alternative_function_name: full alternative function name and path\n",
      "\n"
     ]
    }
   ],
   "source": [
    "print(ALTERNATE_CODE_QUERY.format(function_name=func, library_name=lib))\n",
    "\n"
   ]
  },
  {
   "cell_type": "code",
   "execution_count": 14,
   "metadata": {},
   "outputs": [
    {
     "data": {
      "text/plain": [
       "[1]"
      ]
     },
     "execution_count": 14,
     "metadata": {},
     "output_type": "execute_result"
    }
   ],
   "source": [
    "import random\n",
    "\n",
    "array1 = [1,2,3,4,5]\n",
    "random.choices(array1)"
   ]
  },
  {
   "attachments": {},
   "cell_type": "markdown",
   "metadata": {},
   "source": [
    "* Then move to functions that require multiple arrays\n"
   ]
  },
  {
   "cell_type": "code",
   "execution_count": 36,
   "metadata": {},
   "outputs": [
    {
     "data": {
      "text/plain": [
       "[2, 5, 4, 1, 3]"
      ]
     },
     "execution_count": 36,
     "metadata": {},
     "output_type": "execute_result"
    }
   ],
   "source": [
    "import random\n",
    "k = [1,2,3,4,5]\n",
    "random.shuffle(k)\n",
    "k"
   ]
  },
  {
   "cell_type": "code",
   "execution_count": null,
   "metadata": {},
   "outputs": [],
   "source": [
    "RUNABLE_CODE_QUERY = \"\"\"\n",
    "Act as python developer and be concise and format answer as code only.\n",
    "Write a minimum working code for the function enclosed triple backticks from the library enclosed in tripple dashes.\n",
    "You will be penalized for any variable that is defined but not used.\n",
    "\n",
    "Function Name: ```{function_name}```\n",
    "Library Name: ---{library_name}---\n",
    "\n",
    "Follow the following rules:\n",
    "1. Add all required imports\n",
    "2. Define the minimum number of required numeric arrays of shape (1,5) and name them array1, array2, etc.\n",
    "3. Define the minumum number of required constants and name them constant1, constant2, etc.\n",
    "4. Run the function and store results in a variable named result\n",
    "\n",
    "Examples:\n",
    "\n",
    "\n",
    "Function Name: ```all```\n",
    "Library Name: ---numpy---\n",
    "Code:\n",
    "import numpy as np\n",
    "array1 = np.array([1, 2, 3, 4, 5])\n",
    "result = np.all(array1)\n",
    "\n",
    "Function Name: ```numpy```\n",
    "Library Name: ---dot---\n",
    "Code:\n",
    "import numpy as np\n",
    "array1 = np.array([1, 2, 3, 4, 5])\n",
    "array2 = np.array([6, 7, 8, 9 ,10])\n",
    "result = np.dot(array1, array2)\n",
    "\n",
    "Function Name: ```sin```\n",
    "Library Name: ---numpy---\n",
    "Code:\n",
    "import numpy as np\n",
    "array1 = np.array([1, 2, 3, 4, 5])\n",
    "result = np.sin(array1)\n",
    "\n",
    "Function Name: ```{function_name}```\n",
    "Library Name: ---{library_name}---\n",
    "Code:\n",
    "\"\"\""
   ]
  },
  {
   "cell_type": "code",
   "execution_count": 3,
   "metadata": {},
   "outputs": [],
   "source": [
    "import numpy as np\n",
    "\n",
    "array1 = np.array([1, 2, 3])\n",
    "result = np.sin(array1)"
   ]
  },
  {
   "cell_type": "code",
   "execution_count": 20,
   "metadata": {},
   "outputs": [],
   "source": [
    "import numpy as np\n",
    "array1 = np.array([1, 2, 3, 4, 5])\n",
    "array2 = np.array([6, 7, 8, 9 ,10])\n",
    "result = np.random.choice(array1, size=3, replace=False)"
   ]
  }
 ],
 "metadata": {
  "kernelspec": {
   "display_name": "myenv",
   "language": "python",
   "name": "python3"
  },
  "language_info": {
   "codemirror_mode": {
    "name": "ipython",
    "version": 3
   },
   "file_extension": ".py",
   "mimetype": "text/x-python",
   "name": "python",
   "nbconvert_exporter": "python",
   "pygments_lexer": "ipython3",
   "version": "3.9.16"
  },
  "orig_nbformat": 4
 },
 "nbformat": 4,
 "nbformat_minor": 2
}
