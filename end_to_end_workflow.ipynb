{
 "cells": [
  {
   "attachments": {},
   "cell_type": "markdown",
   "metadata": {},
   "source": [
    "## Example of end-to-end workflow"
   ]
  },
  {
   "cell_type": "code",
   "execution_count": 3,
   "metadata": {},
   "outputs": [],
   "source": [
    "from src.common.alternate_runable_code import AlternateRunableCode\n",
    "from src.common.extract_runable_code import ExtractRunableCode\n",
    "from src.common.llm_helper import LLMHelper\n",
    "from src.common.parse_lib_docs import ParseLibDocs"
   ]
  },
  {
   "attachments": {},
   "cell_type": "markdown",
   "metadata": {},
   "source": [
    "### Outstandind Items\n",
    "\n",
    "- Chat GPT prompt design\n",
    "\n",
    "- Scan numpy reference and get all the functions from the API\n",
    "\t- pick 4 samples\n",
    "\n",
    "- Something that translates the chatgpt response into runable code\n",
    "\n",
    "- Docker container that has a python version and library version\n",
    "\t\n",
    "\n",
    "- database to store results \n",
    "\t-schema\n",
    "\n",
    "- visual studio code plugin that scans the code for keywords"
   ]
  },
  {
   "cell_type": "code",
   "execution_count": 8,
   "metadata": {},
   "outputs": [],
   "source": [
    "# initialize modules\n",
    "llm_helper = LLMHelper('connection_string')\n",
    "lib_parser = ParseLibDocs('numpy', 'https://numpy.org/doc/stable/reference')\n",
    "\n",
    "# parse the lib docs and get a list of functions in the library\n",
    "function_list = lib_parser.parse()\n",
    "\n",
    "# Get the sample query\n",
    "code_extractor = ExtractRunableCode(function_list[0], 'numpy', llm_helper)\n",
    "query = code_extractor.extract_code()\n",
    "\n",
    "altarnate_query_extractor = AlternateRunableCode(function_list[1], 'numpy', llm_helper)\n",
    "\n"
   ]
  },
  {
   "cell_type": "code",
   "execution_count": null,
   "metadata": {},
   "outputs": [
    {
     "data": {
      "text/plain": [
       "True"
      ]
     },
     "execution_count": 7,
     "metadata": {},
     "output_type": "execute_result"
    }
   ],
   "source": []
  },
  {
   "cell_type": "code",
   "execution_count": null,
   "metadata": {},
   "outputs": [],
   "source": []
  }
 ],
 "metadata": {
  "kernelspec": {
   "display_name": "tf-gpu",
   "language": "python",
   "name": "python3"
  },
  "language_info": {
   "codemirror_mode": {
    "name": "ipython",
    "version": 3
   },
   "file_extension": ".py",
   "mimetype": "text/x-python",
   "name": "python",
   "nbconvert_exporter": "python",
   "pygments_lexer": "ipython3",
   "version": "3.7.7"
  },
  "orig_nbformat": 4,
  "vscode": {
   "interpreter": {
    "hash": "3d0a0bd5e7fb1eec57a4f40627422fbc865f8a765ec9e649414596af7ebb9d92"
   }
  }
 },
 "nbformat": 4,
 "nbformat_minor": 2
}
