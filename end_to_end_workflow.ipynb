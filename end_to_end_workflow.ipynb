{
 "cells": [
  {
   "attachments": {},
   "cell_type": "markdown",
   "metadata": {},
   "source": [
    "## Example of end-to-end workflow"
   ]
  },
  {
   "cell_type": "code",
   "execution_count": 3,
   "metadata": {},
   "outputs": [],
   "source": [
    "from src.lib_benchmark.parse_lib_docs import ParseLibDocs"
   ]
  },
  {
   "attachments": {},
   "cell_type": "markdown",
   "metadata": {},
   "source": [
    "### Outstandind Items\n",
    "\n",
    "- Chat GPT prompt design\n",
    "\n",
    "- Scan numpy reference and get all the functions from the API\n",
    "\t- pick 4 samples\n",
    "\n",
    "- Something that translates the chatgpt response into runable code\n",
    "\n",
    "- Docker container that has a python version and library version\n",
    "\t\n",
    "\n",
    "- database to store results \n",
    "\t-schema\n",
    "\n",
    "- visual studio code plugin that scans the code for keywords"
   ]
  },
  {
   "cell_type": "markdown",
   "metadata": {},
   "source": []
  },
  {
   "cell_type": "code",
   "execution_count": 4,
   "metadata": {},
   "outputs": [],
   "source": [
    "lib_parser = ParseLibDocs('numpy', 'https://numpy.org/doc/stable/reference')\n",
    "function_list = lib_parser.parse()"
   ]
  },
  {
   "cell_type": "code",
   "execution_count": 5,
   "metadata": {},
   "outputs": [
    {
     "data": {
      "text/plain": [
       "['fft.fft', 'random.choice']"
      ]
     },
     "execution_count": 5,
     "metadata": {},
     "output_type": "execute_result"
    }
   ],
   "source": []
  },
  {
   "cell_type": "code",
   "execution_count": null,
   "metadata": {},
   "outputs": [],
   "source": []
  }
 ],
 "metadata": {
  "kernelspec": {
   "display_name": "tf-gpu",
   "language": "python",
   "name": "python3"
  },
  "language_info": {
   "codemirror_mode": {
    "name": "ipython",
    "version": 3
   },
   "file_extension": ".py",
   "mimetype": "text/x-python",
   "name": "python",
   "nbconvert_exporter": "python",
   "pygments_lexer": "ipython3",
   "version": "3.7.7"
  },
  "orig_nbformat": 4,
  "vscode": {
   "interpreter": {
    "hash": "3d0a0bd5e7fb1eec57a4f40627422fbc865f8a765ec9e649414596af7ebb9d92"
   }
  }
 },
 "nbformat": 4,
 "nbformat_minor": 2
}
