{
 "cells": [
  {
   "attachments": {},
   "cell_type": "markdown",
   "metadata": {},
   "source": [
    "## Example of end-to-end workflow"
   ]
  },
  {
   "cell_type": "code",
   "execution_count": null,
   "metadata": {},
   "outputs": [],
   "source": []
  },
  {
   "attachments": {},
   "cell_type": "markdown",
   "metadata": {},
   "source": [
    "### Outstandind Items\n",
    "\n",
    "- Chat GPT prompt design\n",
    "\n",
    "- Scan numpy reference and get all the functions from the API\n",
    "\t- pick 4 samples\n",
    "\n",
    "- Something that translates the chatgpt response into runable code\n",
    "\n",
    "- Docker container that has a python version and library version\n",
    "\n",
    "- database to store results \n",
    "\t-schema\n",
    "\n",
    "- visual studio code plugin that scans the code for keywords"
   ]
  },
  {
   "cell_type": "markdown",
   "metadata": {},
   "source": []
  }
 ],
 "metadata": {
  "kernelspec": {
   "display_name": "tf-gpu",
   "language": "python",
   "name": "python3"
  },
  "language_info": {
   "name": "python",
   "version": "3.7.7"
  },
  "orig_nbformat": 4,
  "vscode": {
   "interpreter": {
    "hash": "3d0a0bd5e7fb1eec57a4f40627422fbc865f8a765ec9e649414596af7ebb9d92"
   }
  }
 },
 "nbformat": 4,
 "nbformat_minor": 2
}
